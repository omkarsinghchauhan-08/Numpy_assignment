{
 "cells": [
  {
   "cell_type": "code",
   "execution_count": 1,
   "id": "95e2e36d-5c2e-479c-b3b1-b44cfdf5d374",
   "metadata": {},
   "outputs": [],
   "source": [
    "import numpy as np \n",
    "list_ = ['1','2','3','4','5']\n",
    "array_list = np.array(object = list_)"
   ]
  },
  {
   "cell_type": "code",
   "execution_count": 4,
   "id": "f28e1fa6-d3f7-466f-b53f-893902deb477",
   "metadata": {},
   "outputs": [
    {
     "data": {
      "text/plain": [
       "list"
      ]
     },
     "execution_count": 4,
     "metadata": {},
     "output_type": "execute_result"
    }
   ],
   "source": [
    "type(list_)"
   ]
  },
  {
   "cell_type": "code",
   "execution_count": 5,
   "id": "4b7e4f30-c353-4186-b835-96c9c635ba45",
   "metadata": {},
   "outputs": [
    {
     "data": {
      "text/plain": [
       "numpy.ndarray"
      ]
     },
     "execution_count": 5,
     "metadata": {},
     "output_type": "execute_result"
    }
   ],
   "source": [
    "type(array_list)"
   ]
  },
  {
   "cell_type": "code",
   "execution_count": 6,
   "id": "5ee4c2e3-d932-4980-bd6a-278f96cf3b07",
   "metadata": {},
   "outputs": [
    {
     "data": {
      "text/plain": [
       "array(['1', '2', '3', '4', '5'], dtype='<U1')"
      ]
     },
     "execution_count": 6,
     "metadata": {},
     "output_type": "execute_result"
    }
   ],
   "source": [
    "array_list"
   ]
  },
  {
   "cell_type": "code",
   "execution_count": 16,
   "id": "9773cdbd-077a-4fc8-a7fb-c21344dcc2a7",
   "metadata": {},
   "outputs": [],
   "source": [
    "# ques 1 \n",
    "##ans - list refers to a collection of various elements in a sequence , in which every element is basically an object\n",
    " # and in  other hand , an  array list creates an array of the object that can easily reduce or increase in size as and when required\n",
    "import numpy as np \n",
    "list1 =['31','8','7','2005']\n",
    "array_list=np.array([[1,2,3,4],[2,3,4,5]])"
   ]
  },
  {
   "cell_type": "code",
   "execution_count": 17,
   "id": "82fdb133-766a-43dc-b173-c15d70027909",
   "metadata": {},
   "outputs": [
    {
     "data": {
      "text/plain": [
       "array([[1, 2, 3, 4],\n",
       "       [2, 3, 4, 5]])"
      ]
     },
     "execution_count": 17,
     "metadata": {},
     "output_type": "execute_result"
    }
   ],
   "source": [
    "array_list"
   ]
  },
  {
   "cell_type": "code",
   "execution_count": 18,
   "id": "d73c1ab6-12d3-4b19-a2ff-66472d0d85fe",
   "metadata": {},
   "outputs": [
    {
     "data": {
      "text/plain": [
       "['31', '8', '7', '2005']"
      ]
     },
     "execution_count": 18,
     "metadata": {},
     "output_type": "execute_result"
    }
   ],
   "source": [
    "list1"
   ]
  },
  {
   "cell_type": "code",
   "execution_count": 22,
   "id": "670d7e13-f399-468a-88ba-298631bbf98d",
   "metadata": {},
   "outputs": [
    {
     "data": {
      "text/plain": [
       "list"
      ]
     },
     "execution_count": 22,
     "metadata": {},
     "output_type": "execute_result"
    }
   ],
   "source": [
    "# ques 2\n",
    "#ans- \n",
    "type(list1) \n"
   ]
  },
  {
   "cell_type": "code",
   "execution_count": 23,
   "id": "1b806d66-3b03-4350-b737-fe557844545b",
   "metadata": {},
   "outputs": [
    {
     "data": {
      "text/plain": [
       "numpy.ndarray"
      ]
     },
     "execution_count": 23,
     "metadata": {},
     "output_type": "execute_result"
    }
   ],
   "source": [
    "type(array_list)"
   ]
  },
  {
   "cell_type": "code",
   "execution_count": 24,
   "id": "52643309-8caf-4057-96b2-d5a27e7654c8",
   "metadata": {},
   "outputs": [],
   "source": [
    "array_list=np.array(object=list_,dtype=int)"
   ]
  },
  {
   "cell_type": "code",
   "execution_count": 25,
   "id": "55190d5f-5dee-4db1-9a19-beb634e8ecc1",
   "metadata": {},
   "outputs": [
    {
     "data": {
      "text/plain": [
       "array([1, 2, 3, 4, 5])"
      ]
     },
     "execution_count": 25,
     "metadata": {},
     "output_type": "execute_result"
    }
   ],
   "source": [
    "array_list"
   ]
  },
  {
   "cell_type": "code",
   "execution_count": 26,
   "id": "19841dea-4908-4f15-8bff-96067961d981",
   "metadata": {},
   "outputs": [
    {
     "data": {
      "text/plain": [
       "list"
      ]
     },
     "execution_count": 26,
     "metadata": {},
     "output_type": "execute_result"
    }
   ],
   "source": [
    "#ques3\n",
    "#ans- yes , there is a difference in datatype ,both the variable list_ and arra_list \n",
    "type(list_)"
   ]
  },
  {
   "cell_type": "code",
   "execution_count": 28,
   "id": "c54c1265-c4d3-4180-88f4-8423081e05ab",
   "metadata": {},
   "outputs": [
    {
     "data": {
      "text/plain": [
       "numpy.ndarray"
      ]
     },
     "execution_count": 28,
     "metadata": {},
     "output_type": "execute_result"
    }
   ],
   "source": [
    "type(array_list)"
   ]
  },
  {
   "cell_type": "code",
   "execution_count": 29,
   "id": "7749148c-ca12-4e77-9386-37ecde3bc539",
   "metadata": {},
   "outputs": [],
   "source": [
    "# code for ques 4, 5,6\n",
    "num_list=[[1,2,3],[4,5,6]]\n",
    "num_array=np.array(object = num_list)"
   ]
  },
  {
   "cell_type": "code",
   "execution_count": 31,
   "id": "44e0c00a-7b8d-43c7-9740-f02dace75c84",
   "metadata": {},
   "outputs": [
    {
     "data": {
      "text/plain": [
       "(2, 3)"
      ]
     },
     "execution_count": 31,
     "metadata": {},
     "output_type": "execute_result"
    }
   ],
   "source": [
    "# Ques 4 - ans -->\n",
    "np.shape(num_list)"
   ]
  },
  {
   "cell_type": "code",
   "execution_count": 32,
   "id": "fe120deb-763e-455c-9e56-93f5f0d0b1c2",
   "metadata": {},
   "outputs": [
    {
     "data": {
      "text/plain": [
       "(2, 3)"
      ]
     },
     "execution_count": 32,
     "metadata": {},
     "output_type": "execute_result"
    }
   ],
   "source": [
    "np.shape(num_array)"
   ]
  },
  {
   "cell_type": "code",
   "execution_count": 36,
   "id": "a31e3c16-6bab-402d-a6bb-a2fb5ea3802d",
   "metadata": {},
   "outputs": [
    {
     "data": {
      "text/plain": [
       "6"
      ]
     },
     "execution_count": 36,
     "metadata": {},
     "output_type": "execute_result"
    }
   ],
   "source": [
    "np.size(num_array)"
   ]
  },
  {
   "cell_type": "code",
   "execution_count": 39,
   "id": "bf3f2bc9-b9ab-4d8d-837c-d7bc6e50ad57",
   "metadata": {},
   "outputs": [],
   "source": [
    "#Ques 5\n",
    "#ans-\n",
    "arr3=np.zeros((3,3))"
   ]
  },
  {
   "cell_type": "code",
   "execution_count": 40,
   "id": "9c56fa31-f981-43be-a2c4-607026b86fcb",
   "metadata": {},
   "outputs": [
    {
     "data": {
      "text/plain": [
       "array([[0., 0., 0.],\n",
       "       [0., 0., 0.],\n",
       "       [0., 0., 0.]])"
      ]
     },
     "execution_count": 40,
     "metadata": {},
     "output_type": "execute_result"
    }
   ],
   "source": [
    "arr3"
   ]
  },
  {
   "cell_type": "code",
   "execution_count": 41,
   "id": "ede75a3b-15a5-4af8-9ecf-8dd586e57c68",
   "metadata": {},
   "outputs": [
    {
     "data": {
      "text/plain": [
       "9"
      ]
     },
     "execution_count": 41,
     "metadata": {},
     "output_type": "execute_result"
    }
   ],
   "source": [
    "np.size(arr3)"
   ]
  },
  {
   "cell_type": "code",
   "execution_count": 42,
   "id": "0d57bd09-964b-45f0-b6ca-42fe75b1ecdd",
   "metadata": {},
   "outputs": [
    {
     "data": {
      "text/plain": [
       "(3, 3)"
      ]
     },
     "execution_count": 42,
     "metadata": {},
     "output_type": "execute_result"
    }
   ],
   "source": [
    "np.shape(arr3)"
   ]
  },
  {
   "cell_type": "code",
   "execution_count": 44,
   "id": "ee02e5de-22e4-48e4-abc4-73e7a5131627",
   "metadata": {},
   "outputs": [],
   "source": [
    "#Ques 6 \n",
    "# Ans -\n",
    "arr4 = np.eye(5,5)"
   ]
  },
  {
   "cell_type": "code",
   "execution_count": 45,
   "id": "032a005a-af1f-4197-903b-5a2b65095e82",
   "metadata": {},
   "outputs": [
    {
     "data": {
      "text/plain": [
       "array([[1., 0., 0., 0., 0.],\n",
       "       [0., 1., 0., 0., 0.],\n",
       "       [0., 0., 1., 0., 0.],\n",
       "       [0., 0., 0., 1., 0.],\n",
       "       [0., 0., 0., 0., 1.]])"
      ]
     },
     "execution_count": 45,
     "metadata": {},
     "output_type": "execute_result"
    }
   ],
   "source": [
    "arr4"
   ]
  },
  {
   "cell_type": "code",
   "execution_count": null,
   "id": "3cbf89b7-8f24-446f-8c33-6843ac2b18e0",
   "metadata": {},
   "outputs": [],
   "source": []
  }
 ],
 "metadata": {
  "kernelspec": {
   "display_name": "Python 3 (ipykernel)",
   "language": "python",
   "name": "python3"
  },
  "language_info": {
   "codemirror_mode": {
    "name": "ipython",
    "version": 3
   },
   "file_extension": ".py",
   "mimetype": "text/x-python",
   "name": "python",
   "nbconvert_exporter": "python",
   "pygments_lexer": "ipython3",
   "version": "3.10.8"
  }
 },
 "nbformat": 4,
 "nbformat_minor": 5
}
